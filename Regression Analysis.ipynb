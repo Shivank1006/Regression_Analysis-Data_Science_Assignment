{
  "nbformat": 4,
  "nbformat_minor": 0,
  "metadata": {
    "colab": {
      "name": "Assignment 1.ipynb",
      "provenance": []
    },
    "kernelspec": {
      "name": "python3",
      "display_name": "Python 3"
    },
    "accelerator": "GPU"
  },
  "cells": [
    {
      "cell_type": "markdown",
      "metadata": {
        "id": "NDGtX7UWT8aQ",
        "colab_type": "text"
      },
      "source": [
        "# **Assignment 1**\n",
        "*Submitted by: **Shivank Sharma** - 2018eeb1180*"
      ]
    },
    {
      "cell_type": "markdown",
      "metadata": {
        "id": "23E0tnKMQ35H",
        "colab_type": "text"
      },
      "source": [
        "## **Import the required libraries**"
      ]
    },
    {
      "cell_type": "code",
      "metadata": {
        "id": "vnxVayxM3czZ",
        "colab_type": "code",
        "colab": {}
      },
      "source": [
        "import pandas as pd\n",
        "import numpy as np\n",
        "import matplotlib.pyplot as plt\n",
        "from sklearn import linear_model\n",
        "from sklearn.model_selection import train_test_split"
      ],
      "execution_count": null,
      "outputs": []
    },
    {
      "cell_type": "markdown",
      "metadata": {
        "id": "akufKILURKBi",
        "colab_type": "text"
      },
      "source": [
        "## **Exploring Boston Housing Dataset**"
      ]
    },
    {
      "cell_type": "code",
      "metadata": {
        "id": "Qq6P0_Nn4mcP",
        "colab_type": "code",
        "colab": {
          "base_uri": "https://localhost:8080/",
          "height": 34
        },
        "outputId": "4ec3aeaa-85e4-4020-8aa0-0363e8d54faa"
      },
      "source": [
        "# downloading the Boston Housing Dataset\n",
        "from sklearn.datasets import load_boston\n",
        "dataset = load_boston()\n",
        "\n",
        "print(dataset.data.shape)"
      ],
      "execution_count": null,
      "outputs": [
        {
          "output_type": "stream",
          "text": [
            "(506, 13)\n"
          ],
          "name": "stdout"
        }
      ]
    },
    {
      "cell_type": "code",
      "metadata": {
        "id": "sNzsKMcd8Vnd",
        "colab_type": "code",
        "colab": {
          "base_uri": "https://localhost:8080/",
          "height": 894
        },
        "outputId": "22b636d4-acf9-49f5-f670-042051d5ccaa"
      },
      "source": [
        "# dataset description\n",
        "print(dataset.DESCR)"
      ],
      "execution_count": null,
      "outputs": [
        {
          "output_type": "stream",
          "text": [
            ".. _boston_dataset:\n",
            "\n",
            "Boston house prices dataset\n",
            "---------------------------\n",
            "\n",
            "**Data Set Characteristics:**  \n",
            "\n",
            "    :Number of Instances: 506 \n",
            "\n",
            "    :Number of Attributes: 13 numeric/categorical predictive. Median Value (attribute 14) is usually the target.\n",
            "\n",
            "    :Attribute Information (in order):\n",
            "        - CRIM     per capita crime rate by town\n",
            "        - ZN       proportion of residential land zoned for lots over 25,000 sq.ft.\n",
            "        - INDUS    proportion of non-retail business acres per town\n",
            "        - CHAS     Charles River dummy variable (= 1 if tract bounds river; 0 otherwise)\n",
            "        - NOX      nitric oxides concentration (parts per 10 million)\n",
            "        - RM       average number of rooms per dwelling\n",
            "        - AGE      proportion of owner-occupied units built prior to 1940\n",
            "        - DIS      weighted distances to five Boston employment centres\n",
            "        - RAD      index of accessibility to radial highways\n",
            "        - TAX      full-value property-tax rate per $10,000\n",
            "        - PTRATIO  pupil-teacher ratio by town\n",
            "        - B        1000(Bk - 0.63)^2 where Bk is the proportion of blacks by town\n",
            "        - LSTAT    % lower status of the population\n",
            "        - MEDV     Median value of owner-occupied homes in $1000's\n",
            "\n",
            "    :Missing Attribute Values: None\n",
            "\n",
            "    :Creator: Harrison, D. and Rubinfeld, D.L.\n",
            "\n",
            "This is a copy of UCI ML housing dataset.\n",
            "https://archive.ics.uci.edu/ml/machine-learning-databases/housing/\n",
            "\n",
            "\n",
            "This dataset was taken from the StatLib library which is maintained at Carnegie Mellon University.\n",
            "\n",
            "The Boston house-price data of Harrison, D. and Rubinfeld, D.L. 'Hedonic\n",
            "prices and the demand for clean air', J. Environ. Economics & Management,\n",
            "vol.5, 81-102, 1978.   Used in Belsley, Kuh & Welsch, 'Regression diagnostics\n",
            "...', Wiley, 1980.   N.B. Various transformations are used in the table on\n",
            "pages 244-261 of the latter.\n",
            "\n",
            "The Boston house-price data has been used in many machine learning papers that address regression\n",
            "problems.   \n",
            "     \n",
            ".. topic:: References\n",
            "\n",
            "   - Belsley, Kuh & Welsch, 'Regression diagnostics: Identifying Influential Data and Sources of Collinearity', Wiley, 1980. 244-261.\n",
            "   - Quinlan,R. (1993). Combining Instance-Based and Model-Based Learning. In Proceedings on the Tenth International Conference of Machine Learning, 236-243, University of Massachusetts, Amherst. Morgan Kaufmann.\n",
            "\n"
          ],
          "name": "stdout"
        }
      ]
    },
    {
      "cell_type": "code",
      "metadata": {
        "id": "Ieyl_ma--pvA",
        "colab_type": "code",
        "colab": {
          "base_uri": "https://localhost:8080/",
          "height": 195
        },
        "outputId": "ffd6eeea-9539-4337-bee9-02f765d68bda"
      },
      "source": [
        "# creating a dataframe from dataset\n",
        "boston = pd.DataFrame(dataset.data, columns=dataset.feature_names)\n",
        "boston.head()"
      ],
      "execution_count": null,
      "outputs": [
        {
          "output_type": "execute_result",
          "data": {
            "text/html": [
              "<div>\n",
              "<style scoped>\n",
              "    .dataframe tbody tr th:only-of-type {\n",
              "        vertical-align: middle;\n",
              "    }\n",
              "\n",
              "    .dataframe tbody tr th {\n",
              "        vertical-align: top;\n",
              "    }\n",
              "\n",
              "    .dataframe thead th {\n",
              "        text-align: right;\n",
              "    }\n",
              "</style>\n",
              "<table border=\"1\" class=\"dataframe\">\n",
              "  <thead>\n",
              "    <tr style=\"text-align: right;\">\n",
              "      <th></th>\n",
              "      <th>CRIM</th>\n",
              "      <th>ZN</th>\n",
              "      <th>INDUS</th>\n",
              "      <th>CHAS</th>\n",
              "      <th>NOX</th>\n",
              "      <th>RM</th>\n",
              "      <th>AGE</th>\n",
              "      <th>DIS</th>\n",
              "      <th>RAD</th>\n",
              "      <th>TAX</th>\n",
              "      <th>PTRATIO</th>\n",
              "      <th>B</th>\n",
              "      <th>LSTAT</th>\n",
              "    </tr>\n",
              "  </thead>\n",
              "  <tbody>\n",
              "    <tr>\n",
              "      <th>0</th>\n",
              "      <td>0.00632</td>\n",
              "      <td>18.0</td>\n",
              "      <td>2.31</td>\n",
              "      <td>0.0</td>\n",
              "      <td>0.538</td>\n",
              "      <td>6.575</td>\n",
              "      <td>65.2</td>\n",
              "      <td>4.0900</td>\n",
              "      <td>1.0</td>\n",
              "      <td>296.0</td>\n",
              "      <td>15.3</td>\n",
              "      <td>396.90</td>\n",
              "      <td>4.98</td>\n",
              "    </tr>\n",
              "    <tr>\n",
              "      <th>1</th>\n",
              "      <td>0.02731</td>\n",
              "      <td>0.0</td>\n",
              "      <td>7.07</td>\n",
              "      <td>0.0</td>\n",
              "      <td>0.469</td>\n",
              "      <td>6.421</td>\n",
              "      <td>78.9</td>\n",
              "      <td>4.9671</td>\n",
              "      <td>2.0</td>\n",
              "      <td>242.0</td>\n",
              "      <td>17.8</td>\n",
              "      <td>396.90</td>\n",
              "      <td>9.14</td>\n",
              "    </tr>\n",
              "    <tr>\n",
              "      <th>2</th>\n",
              "      <td>0.02729</td>\n",
              "      <td>0.0</td>\n",
              "      <td>7.07</td>\n",
              "      <td>0.0</td>\n",
              "      <td>0.469</td>\n",
              "      <td>7.185</td>\n",
              "      <td>61.1</td>\n",
              "      <td>4.9671</td>\n",
              "      <td>2.0</td>\n",
              "      <td>242.0</td>\n",
              "      <td>17.8</td>\n",
              "      <td>392.83</td>\n",
              "      <td>4.03</td>\n",
              "    </tr>\n",
              "    <tr>\n",
              "      <th>3</th>\n",
              "      <td>0.03237</td>\n",
              "      <td>0.0</td>\n",
              "      <td>2.18</td>\n",
              "      <td>0.0</td>\n",
              "      <td>0.458</td>\n",
              "      <td>6.998</td>\n",
              "      <td>45.8</td>\n",
              "      <td>6.0622</td>\n",
              "      <td>3.0</td>\n",
              "      <td>222.0</td>\n",
              "      <td>18.7</td>\n",
              "      <td>394.63</td>\n",
              "      <td>2.94</td>\n",
              "    </tr>\n",
              "    <tr>\n",
              "      <th>4</th>\n",
              "      <td>0.06905</td>\n",
              "      <td>0.0</td>\n",
              "      <td>2.18</td>\n",
              "      <td>0.0</td>\n",
              "      <td>0.458</td>\n",
              "      <td>7.147</td>\n",
              "      <td>54.2</td>\n",
              "      <td>6.0622</td>\n",
              "      <td>3.0</td>\n",
              "      <td>222.0</td>\n",
              "      <td>18.7</td>\n",
              "      <td>396.90</td>\n",
              "      <td>5.33</td>\n",
              "    </tr>\n",
              "  </tbody>\n",
              "</table>\n",
              "</div>"
            ],
            "text/plain": [
              "      CRIM    ZN  INDUS  CHAS    NOX  ...  RAD    TAX  PTRATIO       B  LSTAT\n",
              "0  0.00632  18.0   2.31   0.0  0.538  ...  1.0  296.0     15.3  396.90   4.98\n",
              "1  0.02731   0.0   7.07   0.0  0.469  ...  2.0  242.0     17.8  396.90   9.14\n",
              "2  0.02729   0.0   7.07   0.0  0.469  ...  2.0  242.0     17.8  392.83   4.03\n",
              "3  0.03237   0.0   2.18   0.0  0.458  ...  3.0  222.0     18.7  394.63   2.94\n",
              "4  0.06905   0.0   2.18   0.0  0.458  ...  3.0  222.0     18.7  396.90   5.33\n",
              "\n",
              "[5 rows x 13 columns]"
            ]
          },
          "metadata": {
            "tags": []
          },
          "execution_count": 4
        }
      ]
    },
    {
      "cell_type": "markdown",
      "metadata": {
        "id": "qjphPicsRcyz",
        "colab_type": "text"
      },
      "source": [
        "## **Task 1**\n",
        "\n",
        "\n",
        "\n",
        "\n",
        "\n"
      ]
    },
    {
      "cell_type": "code",
      "metadata": {
        "id": "Ni5gVBtWC8f7",
        "colab_type": "code",
        "colab": {
          "base_uri": "https://localhost:8080/",
          "height": 195
        },
        "outputId": "ac2f58d2-9d28-4d5b-ad25-487a3575d5fb"
      },
      "source": [
        "# creating dataframes\n",
        "X = boston\n",
        "y = pd.DataFrame(dataset.target, columns=['Price'])\n",
        "y.head()"
      ],
      "execution_count": null,
      "outputs": [
        {
          "output_type": "execute_result",
          "data": {
            "text/html": [
              "<div>\n",
              "<style scoped>\n",
              "    .dataframe tbody tr th:only-of-type {\n",
              "        vertical-align: middle;\n",
              "    }\n",
              "\n",
              "    .dataframe tbody tr th {\n",
              "        vertical-align: top;\n",
              "    }\n",
              "\n",
              "    .dataframe thead th {\n",
              "        text-align: right;\n",
              "    }\n",
              "</style>\n",
              "<table border=\"1\" class=\"dataframe\">\n",
              "  <thead>\n",
              "    <tr style=\"text-align: right;\">\n",
              "      <th></th>\n",
              "      <th>Price</th>\n",
              "    </tr>\n",
              "  </thead>\n",
              "  <tbody>\n",
              "    <tr>\n",
              "      <th>0</th>\n",
              "      <td>24.0</td>\n",
              "    </tr>\n",
              "    <tr>\n",
              "      <th>1</th>\n",
              "      <td>21.6</td>\n",
              "    </tr>\n",
              "    <tr>\n",
              "      <th>2</th>\n",
              "      <td>34.7</td>\n",
              "    </tr>\n",
              "    <tr>\n",
              "      <th>3</th>\n",
              "      <td>33.4</td>\n",
              "    </tr>\n",
              "    <tr>\n",
              "      <th>4</th>\n",
              "      <td>36.2</td>\n",
              "    </tr>\n",
              "  </tbody>\n",
              "</table>\n",
              "</div>"
            ],
            "text/plain": [
              "   Price\n",
              "0   24.0\n",
              "1   21.6\n",
              "2   34.7\n",
              "3   33.4\n",
              "4   36.2"
            ]
          },
          "metadata": {
            "tags": []
          },
          "execution_count": 5
        }
      ]
    },
    {
      "cell_type": "code",
      "metadata": {
        "id": "tEwgJH8k5UjZ",
        "colab_type": "code",
        "colab": {}
      },
      "source": [
        "# splitting the dataset in 70:30 training and test sets\n",
        "X_train, X_test, y_train, y_test = train_test_split(X, y, test_size=0.3, random_state=0)"
      ],
      "execution_count": null,
      "outputs": []
    },
    {
      "cell_type": "code",
      "metadata": {
        "id": "J_jJyD6J7iGy",
        "colab_type": "code",
        "colab": {
          "base_uri": "https://localhost:8080/",
          "height": 101
        },
        "outputId": "592683cd-d3c7-42ef-cad4-4fcce06465d0"
      },
      "source": [
        "# fitting the OLS regressor in training set\n",
        "clf = linear_model.LinearRegression()\n",
        "clf.fit(X_train, y_train)\n",
        "boston_xtrain = X_train\n",
        "print('Coefficients: ',clf.coef_)\n",
        "print('Intercept: ',clf.intercept_)"
      ],
      "execution_count": null,
      "outputs": [
        {
          "output_type": "stream",
          "text": [
            "Coefficients:  [[-1.21310401e-01  4.44664254e-02  1.13416945e-02  2.51124642e+00\n",
            "  -1.62312529e+01  3.85906801e+00 -9.98516565e-03 -1.50026956e+00\n",
            "   2.42143466e-01 -1.10716124e-02 -1.01775264e+00  6.81446545e-03\n",
            "  -4.86738066e-01]]\n",
            "Intercept:  [37.93710774]\n"
          ],
          "name": "stdout"
        }
      ]
    },
    {
      "cell_type": "code",
      "metadata": {
        "id": "x4e1wR4XI16p",
        "colab_type": "code",
        "colab": {
          "base_uri": "https://localhost:8080/",
          "height": 494
        },
        "outputId": "973bd939-b3ba-4143-b060-4b73f5b30639"
      },
      "source": [
        "# plotting the the values of the regression coefficients for the different predictor variables using a bar graph\n",
        "fig = plt.figure()\n",
        "ax = fig.add_axes([0,0,1.5,1.5])\n",
        "features = dataset.feature_names\n",
        "coeff = clf.coef_[0]\n",
        "ax.bar(features, coeff)\n",
        "ax.set_xlabel('features')\n",
        "ax.set_ylabel('coefficients')\n",
        "plt.show()"
      ],
      "execution_count": null,
      "outputs": [
        {
          "output_type": "display_data",
          "data": {
            "image/png": "[encoded data removed]",
            "text/plain": [
              "<Figure size 432x288 with 1 Axes>"
            ]
          },
          "metadata": {
            "tags": []
          }
        }
      ]
    },
    {
      "cell_type": "code",
      "metadata": {
        "id": "M47YgMWkWYVN",
        "colab_type": "code",
        "colab": {
          "base_uri": "https://localhost:8080/",
          "height": 34
        },
        "outputId": "d8926fcf-8a7c-4439-b84e-eea59d562f57"
      },
      "source": [
        "# list for training and test errors\n",
        "OLS_me = [(abs(y_train.to_numpy() - clf.predict(X_train))).mean(), (abs(y_test.to_numpy() - clf.predict(X_test))).mean()]\n",
        "print(OLS_me)"
      ],
      "execution_count": null,
      "outputs": [
        {
          "output_type": "stream",
          "text": [
            "[3.103606103908007, 3.6099040603818096]\n"
          ],
          "name": "stdout"
        }
      ]
    },
    {
      "cell_type": "markdown",
      "metadata": {
        "id": "sdUbLHGpRoqS",
        "colab_type": "text"
      },
      "source": [
        "## **Task 2**"
      ]
    },
    {
      "cell_type": "code",
      "metadata": {
        "id": "Mbv0gSok9OAd",
        "colab_type": "code",
        "colab": {
          "base_uri": "https://localhost:8080/",
          "height": 195
        },
        "outputId": "f3479945-22d3-47da-e39d-69d55c1cb75e"
      },
      "source": [
        "# creating dataframe by dropping the required columns\n",
        "X = boston.drop(['INDUS', 'CHAS', 'NOX', 'AGE', 'DIS', 'PTRATIO', 'B', 'LSTAT'], axis=1)\n",
        "X_train, X_test, y_train, y_test = train_test_split(X, y, test_size=0.3, random_state=0)\n",
        "X.head()"
      ],
      "execution_count": null,
      "outputs": [
        {
          "output_type": "execute_result",
          "data": {
            "text/html": [
              "<div>\n",
              "<style scoped>\n",
              "    .dataframe tbody tr th:only-of-type {\n",
              "        vertical-align: middle;\n",
              "    }\n",
              "\n",
              "    .dataframe tbody tr th {\n",
              "        vertical-align: top;\n",
              "    }\n",
              "\n",
              "    .dataframe thead th {\n",
              "        text-align: right;\n",
              "    }\n",
              "</style>\n",
              "<table border=\"1\" class=\"dataframe\">\n",
              "  <thead>\n",
              "    <tr style=\"text-align: right;\">\n",
              "      <th></th>\n",
              "      <th>CRIM</th>\n",
              "      <th>ZN</th>\n",
              "      <th>RM</th>\n",
              "      <th>RAD</th>\n",
              "      <th>TAX</th>\n",
              "    </tr>\n",
              "  </thead>\n",
              "  <tbody>\n",
              "    <tr>\n",
              "      <th>0</th>\n",
              "      <td>0.00632</td>\n",
              "      <td>18.0</td>\n",
              "      <td>6.575</td>\n",
              "      <td>1.0</td>\n",
              "      <td>296.0</td>\n",
              "    </tr>\n",
              "    <tr>\n",
              "      <th>1</th>\n",
              "      <td>0.02731</td>\n",
              "      <td>0.0</td>\n",
              "      <td>6.421</td>\n",
              "      <td>2.0</td>\n",
              "      <td>242.0</td>\n",
              "    </tr>\n",
              "    <tr>\n",
              "      <th>2</th>\n",
              "      <td>0.02729</td>\n",
              "      <td>0.0</td>\n",
              "      <td>7.185</td>\n",
              "      <td>2.0</td>\n",
              "      <td>242.0</td>\n",
              "    </tr>\n",
              "    <tr>\n",
              "      <th>3</th>\n",
              "      <td>0.03237</td>\n",
              "      <td>0.0</td>\n",
              "      <td>6.998</td>\n",
              "      <td>3.0</td>\n",
              "      <td>222.0</td>\n",
              "    </tr>\n",
              "    <tr>\n",
              "      <th>4</th>\n",
              "      <td>0.06905</td>\n",
              "      <td>0.0</td>\n",
              "      <td>7.147</td>\n",
              "      <td>3.0</td>\n",
              "      <td>222.0</td>\n",
              "    </tr>\n",
              "  </tbody>\n",
              "</table>\n",
              "</div>"
            ],
            "text/plain": [
              "      CRIM    ZN     RM  RAD    TAX\n",
              "0  0.00632  18.0  6.575  1.0  296.0\n",
              "1  0.02731   0.0  6.421  2.0  242.0\n",
              "2  0.02729   0.0  7.185  2.0  242.0\n",
              "3  0.03237   0.0  6.998  3.0  222.0\n",
              "4  0.06905   0.0  7.147  3.0  222.0"
            ]
          },
          "metadata": {
            "tags": []
          },
          "execution_count": 10
        }
      ]
    },
    {
      "cell_type": "code",
      "metadata": {
        "id": "sf2gzY1faG5_",
        "colab_type": "code",
        "colab": {}
      },
      "source": [
        "# creating list for training and test errors\n",
        "Ridge_me = []"
      ],
      "execution_count": null,
      "outputs": []
    },
    {
      "cell_type": "code",
      "metadata": {
        "id": "RwfnEL-I9Urv",
        "colab_type": "code",
        "colab": {}
      },
      "source": [
        "# fittng the ridge regressor for different values of aplha\n",
        "coeff = []\n",
        "for i in range(201):\n",
        "    ridge = linear_model.Ridge(alpha=i)\n",
        "    ridge.fit(X_train, y_train)\n",
        "    Ridge_me.append([i, (abs(y_train.to_numpy() - ridge.predict(X_train))).mean(), (abs(y_test.to_numpy() - ridge.predict(X_test))).mean()])\n",
        "    coeff.append(ridge.coef_[0])"
      ],
      "execution_count": null,
      "outputs": []
    },
    {
      "cell_type": "code",
      "metadata": {
        "id": "jwsNTys4AGzX",
        "colab_type": "code",
        "colab": {}
      },
      "source": [
        "# creating an array of length 200\n",
        "a = np.arange(201)"
      ],
      "execution_count": null,
      "outputs": []
    },
    {
      "cell_type": "code",
      "metadata": {
        "id": "OgPOmBrM_leZ",
        "colab_type": "code",
        "colab": {
          "base_uri": "https://localhost:8080/",
          "height": 366
        },
        "outputId": "544a42b4-b21b-4527-eafb-66cd55d4f3f4"
      },
      "source": [
        "# plotting the ridge coefficients for different values of alpha\n",
        "fig = plt.figure()\n",
        "ax = fig.add_axes([0, 0, 1.5, 1])\n",
        "ax.plot(a, coeff)\n",
        "ax.set_xlabel('alpha')\n",
        "ax.set_title('Ridge Coefficients')\n",
        "plt.legend(labels=X.columns, loc='best')\n",
        "plt.show()"
      ],
      "execution_count": null,
      "outputs": [
        {
          "output_type": "display_data",
          "data": {
            "image/png": "[encoded data removed]",
            "text/plain": [
              "<Figure size 432x288 with 1 Axes>"
            ]
          },
          "metadata": {
            "tags": []
          }
        }
      ]
    },
    {
      "cell_type": "markdown",
      "metadata": {
        "id": "4aiZ3l93RvyN",
        "colab_type": "text"
      },
      "source": [
        "## **Task 3**"
      ]
    },
    {
      "cell_type": "code",
      "metadata": {
        "id": "-3Qv4QRyd02D",
        "colab_type": "code",
        "colab": {}
      },
      "source": [
        "# creating list for training and test errors\n",
        "lasso_me = []"
      ],
      "execution_count": null,
      "outputs": []
    },
    {
      "cell_type": "code",
      "metadata": {
        "id": "Agglvez6AcYk",
        "colab_type": "code",
        "colab": {}
      },
      "source": [
        "# fitting the lasso regressor for different values of alpha \n",
        "lasso_coeff = []\n",
        "for i in range(1, 201):\n",
        "    lasso = linear_model.Lasso(alpha=i)\n",
        "    lasso.fit(X, y)\n",
        "    lasso_me.append([i, (abs(y_train.to_numpy() - lasso.predict(X_train))).mean(), (abs(y_test.to_numpy() - lasso.predict(X_test))).mean()])\n",
        "    lasso_coeff.append(lasso.coef_)"
      ],
      "execution_count": null,
      "outputs": []
    },
    {
      "cell_type": "code",
      "metadata": {
        "id": "vpzOohrICqPd",
        "colab_type": "code",
        "colab": {
          "base_uri": "https://localhost:8080/",
          "height": 366
        },
        "outputId": "ac471505-c098-4093-87bd-2046e37b1f57"
      },
      "source": [
        "# plotting the lasso coefficients for different values of aplha\n",
        "fig = plt.figure()\n",
        "ax = fig.add_axes([0, 0, 1.5, 1])\n",
        "ax.plot(a[1:], lasso_coeff)\n",
        "ax.set_xlabel('alpha')\n",
        "ax.set_title('Lasso Coefficients')\n",
        "plt.legend(labels=X.columns, loc='best')\n",
        "plt.show()"
      ],
      "execution_count": null,
      "outputs": [
        {
          "output_type": "display_data",
          "data": {
            "image/png": "[encoded data removed]",
            "text/plain": [
              "<Figure size 432x288 with 1 Axes>"
            ]
          },
          "metadata": {
            "tags": []
          }
        }
      ]
    },
    {
      "cell_type": "markdown",
      "metadata": {
        "id": "kdV6uKd3R0sc",
        "colab_type": "text"
      },
      "source": [
        "## **Task 4**"
      ]
    },
    {
      "cell_type": "markdown",
      "metadata": {
        "id": "1TvJjNQVSBW6",
        "colab_type": "text"
      },
      "source": [
        "### ***Ordinary Least Square Model***"
      ]
    },
    {
      "cell_type": "code",
      "metadata": {
        "id": "VwVntN_0P2qW",
        "colab_type": "code",
        "colab": {
          "base_uri": "https://localhost:8080/",
          "height": 350
        },
        "outputId": "fd3bcc59-09b8-4ef5-e993-d517b4140b60"
      },
      "source": [
        "# plotting the residuals for OLS regressor\n",
        "fig = plt.figure()\n",
        "ax = fig.add_axes([0, 0, 1, 1])\n",
        "ax.scatter(clf.predict(boston_xtrain), y_train.to_numpy()-clf.predict(boston_xtrain).reshape(354, 1), c='r', alpha=0.4)\n",
        "ax.hlines(y=0, xmin=0, xmax=50)\n",
        "ax.set_xlabel('predicted value')\n",
        "ax.set_ylabel('residuals')\n",
        "plt.show()"
      ],
      "execution_count": null,
      "outputs": [
        {
          "output_type": "display_data",
          "data": {
            "image/png": "[encoded data removed]",
            "text/plain": [
              "<Figure size 432x288 with 1 Axes>"
            ]
          },
          "metadata": {
            "tags": []
          }
        }
      ]
    },
    {
      "cell_type": "markdown",
      "metadata": {
        "id": "ywZ907JOSL_c",
        "colab_type": "text"
      },
      "source": [
        "### ***Lasso Model***\n",
        "*( for alpha = 3, 100, 200 )*"
      ]
    },
    {
      "cell_type": "code",
      "metadata": {
        "id": "KWVzNoQAMuBj",
        "colab_type": "code",
        "colab": {
          "base_uri": "https://localhost:8080/",
          "height": 67
        },
        "outputId": "aa4c78dd-f98a-4db8-e329-244de1ea9e16"
      },
      "source": [
        "# fittng lasso regressor for different alpha\n",
        "lasso1 = linear_model.Lasso(alpha=3)\n",
        "lasso1.fit(X_train, y_train)\n",
        "lasso2 = linear_model.Lasso(alpha=100)\n",
        "lasso2.fit(X_train, y_train)\n",
        "lasso3 = linear_model.Lasso(alpha=200)\n",
        "lasso3.fit(X_train, y_train)"
      ],
      "execution_count": null,
      "outputs": [
        {
          "output_type": "execute_result",
          "data": {
            "text/plain": [
              "Lasso(alpha=200, copy_X=True, fit_intercept=True, max_iter=1000,\n",
              "      normalize=False, positive=False, precompute=False, random_state=None,\n",
              "      selection='cyclic', tol=0.0001, warm_start=False)"
            ]
          },
          "metadata": {
            "tags": []
          },
          "execution_count": 19
        }
      ]
    },
    {
      "cell_type": "code",
      "metadata": {
        "id": "JzM3JbgUMt3y",
        "colab_type": "code",
        "colab": {
          "base_uri": "https://localhost:8080/",
          "height": 350
        },
        "outputId": "935306c1-2e3d-4ac5-cf54-0ac8217ff5a1"
      },
      "source": [
        "# plotting the residuals for lasso regressor for aplha=3\n",
        "fig = plt.figure()\n",
        "ax = fig.add_axes([0, 0, 1, 1])\n",
        "ax.scatter(lasso1.predict(X_train), y_train-lasso1.predict(X_train).reshape(354, 1), c='r', alpha=0.4)\n",
        "ax.hlines(y=0, xmin=0, xmax=50)\n",
        "ax.set_xlabel('predicted value')\n",
        "ax.set_ylabel('residuals')\n",
        "plt.show()"
      ],
      "execution_count": null,
      "outputs": [
        {
          "output_type": "display_data",
          "data": {
            "image/png": "[encoded data removed]",
            "text/plain": [
              "<Figure size 432x288 with 1 Axes>"
            ]
          },
          "metadata": {
            "tags": []
          }
        }
      ]
    },
    {
      "cell_type": "code",
      "metadata": {
        "id": "EreuTnLeMtt4",
        "colab_type": "code",
        "colab": {
          "base_uri": "https://localhost:8080/",
          "height": 350
        },
        "outputId": "65f82c31-5df8-48ae-9b14-b20bfcbf2fd8"
      },
      "source": [
        "# plotting the residuals for lasso regressor for aplha=100\n",
        "fig = plt.figure()\n",
        "ax = fig.add_axes([0, 0, 1, 1])\n",
        "ax.scatter(lasso2.predict(X_train), y_train-lasso2.predict(X_train).reshape(354, 1), c='b', alpha=0.4)\n",
        "ax.hlines(y=0, xmin=0, xmax=50)\n",
        "ax.set_xlabel('predicted value')\n",
        "ax.set_ylabel('residuals')\n",
        "plt.show()"
      ],
      "execution_count": null,
      "outputs": [
        {
          "output_type": "display_data",
          "data": {
            "image/png": "[encoded data removed]",
            "text/plain": [
              "<Figure size 432x288 with 1 Axes>"
            ]
          },
          "metadata": {
            "tags": []
          }
        }
      ]
    },
    {
      "cell_type": "code",
      "metadata": {
        "id": "1602saTsMtja",
        "colab_type": "code",
        "colab": {
          "base_uri": "https://localhost:8080/",
          "height": 350
        },
        "outputId": "92e805f8-6b29-40f3-eea1-50fe9fb44f36"
      },
      "source": [
        "# plotting the residuals for lasso regressor for aplha=200\n",
        "fig = plt.figure()\n",
        "ax = fig.add_axes([0, 0, 1, 1])\n",
        "ax.scatter(lasso3.predict(X_train), y_train-lasso3.predict(X_train).reshape(354, 1), c='g', alpha=0.4)\n",
        "ax.hlines(y=0, xmin=0, xmax=50)\n",
        "ax.set_xlabel('predicted value')\n",
        "ax.set_ylabel('residuals')\n",
        "plt.show()"
      ],
      "execution_count": null,
      "outputs": [
        {
          "output_type": "display_data",
          "data": {
            "image/png": "[encoded data removed]",
            "text/plain": [
              "<Figure size 432x288 with 1 Axes>"
            ]
          },
          "metadata": {
            "tags": []
          }
        }
      ]
    },
    {
      "cell_type": "markdown",
      "metadata": {
        "id": "n6TkGtgtS4sI",
        "colab_type": "text"
      },
      "source": [
        "### ***Ridge Model*** \n",
        "*( for alpha = 10, 100, 200 )*"
      ]
    },
    {
      "cell_type": "code",
      "metadata": {
        "id": "J_512lovKpF5",
        "colab_type": "code",
        "colab": {
          "base_uri": "https://localhost:8080/",
          "height": 50
        },
        "outputId": "f98fb002-c0e8-4fac-f0cf-d3986fd7e86b"
      },
      "source": [
        "# fittng ridge regressor for different alpha\n",
        "ridge1 = linear_model.Ridge(alpha=10)\n",
        "ridge1.fit(X_train, y_train)\n",
        "ridge2 = linear_model.Ridge(alpha=100)\n",
        "ridge2.fit(X_train, y_train)\n",
        "ridge3 = linear_model.Ridge(alpha=200)\n",
        "ridge3.fit(X_train, y_train)"
      ],
      "execution_count": null,
      "outputs": [
        {
          "output_type": "execute_result",
          "data": {
            "text/plain": [
              "Ridge(alpha=200, copy_X=True, fit_intercept=True, max_iter=None,\n",
              "      normalize=False, random_state=None, solver='auto', tol=0.001)"
            ]
          },
          "metadata": {
            "tags": []
          },
          "execution_count": 23
        }
      ]
    },
    {
      "cell_type": "code",
      "metadata": {
        "id": "Mn0jUlUKDXiw",
        "colab_type": "code",
        "colab": {
          "base_uri": "https://localhost:8080/",
          "height": 350
        },
        "outputId": "1e7864bf-2f55-4a58-ebbe-879ff1c44d9d"
      },
      "source": [
        "# plotting the residuals for lasso regressor for aplha=10\n",
        "fig = plt.figure()\n",
        "ax = fig.add_axes([0, 0, 1, 1])\n",
        "ax.scatter(ridge1.predict(X_train), y_train-ridge1.predict(X_train), c='r', alpha=0.4)\n",
        "ax.hlines(y=0, xmin=0, xmax=50)\n",
        "ax.set_xlabel('predicted value')\n",
        "ax.set_ylabel('residuals')\n",
        "plt.show()"
      ],
      "execution_count": null,
      "outputs": [
        {
          "output_type": "display_data",
          "data": {
            "image/png": "[encoded data removed]",
            "text/plain": [
              "<Figure size 432x288 with 1 Axes>"
            ]
          },
          "metadata": {
            "tags": []
          }
        }
      ]
    },
    {
      "cell_type": "code",
      "metadata": {
        "id": "eBxKAQ4ILpJ3",
        "colab_type": "code",
        "colab": {
          "base_uri": "https://localhost:8080/",
          "height": 350
        },
        "outputId": "0f1040ad-97bd-41c5-d2ab-972fad151854"
      },
      "source": [
        "# plotting the residuals for lasso regressor for aplha=100\n",
        "fig = plt.figure()\n",
        "ax = fig.add_axes([0, 0, 1, 1])\n",
        "ax.scatter(ridge2.predict(X_train), y_train-ridge2.predict(X_train), c='g', alpha=0.4)\n",
        "ax.hlines(y=0, xmin=0, xmax=50)\n",
        "ax.set_xlabel('predicted value')\n",
        "ax.set_ylabel('residuals')\n",
        "plt.show()"
      ],
      "execution_count": null,
      "outputs": [
        {
          "output_type": "display_data",
          "data": {
            "image/png": "[encoded data removed]",
            "text/plain": [
              "<Figure size 432x288 with 1 Axes>"
            ]
          },
          "metadata": {
            "tags": []
          }
        }
      ]
    },
    {
      "cell_type": "code",
      "metadata": {
        "id": "5oZGH3ugLxAL",
        "colab_type": "code",
        "colab": {
          "base_uri": "https://localhost:8080/",
          "height": 350
        },
        "outputId": "43da6f4c-5574-4ee3-b1ba-89762544254d"
      },
      "source": [
        "# plotting the residuals for lasso regressor for aplha=200\n",
        "fig = plt.figure()\n",
        "ax = fig.add_axes([0, 0, 1, 1])\n",
        "ax.scatter(ridge3.predict(X_train), y_train-ridge3.predict(X_train), c='b', alpha=0.4)\n",
        "ax.hlines(y=0, xmin=0, xmax=50)\n",
        "ax.set_xlabel('predicted value')\n",
        "ax.set_ylabel('residuals')\n",
        "plt.show()"
      ],
      "execution_count": null,
      "outputs": [
        {
          "output_type": "display_data",
          "data": {
            "image/png": "[encoded data removed]",
            "text/plain": [
              "<Figure size 432x288 with 1 Axes>"
            ]
          },
          "metadata": {
            "tags": []
          }
        }
      ]
    },
    {
      "cell_type": "markdown",
      "metadata": {
        "id": "NW7jIAEHTYzu",
        "colab_type": "text"
      },
      "source": [
        "## **Task 5**"
      ]
    },
    {
      "cell_type": "code",
      "metadata": {
        "id": "x-o34DDdLxvf",
        "colab_type": "code",
        "colab": {
          "base_uri": "https://localhost:8080/",
          "height": 77
        },
        "outputId": "16e2d420-636f-4652-da0e-61a8acd61af6"
      },
      "source": [
        "# creating dataframe for OLS regressor training\n",
        "# and test errors\n",
        "OLS_mean_error = pd.DataFrame([OLS_me], columns=['Mean Training Error', 'Mean Test Error'])\n",
        "OLS_mean_error.head()"
      ],
      "execution_count": null,
      "outputs": [
        {
          "output_type": "execute_result",
          "data": {
            "text/html": [
              "<div>\n",
              "<style scoped>\n",
              "    .dataframe tbody tr th:only-of-type {\n",
              "        vertical-align: middle;\n",
              "    }\n",
              "\n",
              "    .dataframe tbody tr th {\n",
              "        vertical-align: top;\n",
              "    }\n",
              "\n",
              "    .dataframe thead th {\n",
              "        text-align: right;\n",
              "    }\n",
              "</style>\n",
              "<table border=\"1\" class=\"dataframe\">\n",
              "  <thead>\n",
              "    <tr style=\"text-align: right;\">\n",
              "      <th></th>\n",
              "      <th>Mean Training Error</th>\n",
              "      <th>Mean Test Error</th>\n",
              "    </tr>\n",
              "  </thead>\n",
              "  <tbody>\n",
              "    <tr>\n",
              "      <th>0</th>\n",
              "      <td>3.103606</td>\n",
              "      <td>3.609904</td>\n",
              "    </tr>\n",
              "  </tbody>\n",
              "</table>\n",
              "</div>"
            ],
            "text/plain": [
              "   Mean Training Error  Mean Test Error\n",
              "0             3.103606         3.609904"
            ]
          },
          "metadata": {
            "tags": []
          },
          "execution_count": 27
        }
      ]
    },
    {
      "cell_type": "code",
      "metadata": {
        "id": "aMVtuMeVkM-O",
        "colab_type": "code",
        "colab": {
          "base_uri": "https://localhost:8080/",
          "height": 195
        },
        "outputId": "b5a01eeb-6ff6-41da-b124-012d11d2871e"
      },
      "source": [
        "# creating dataframe for Ridge regressor trainiing \n",
        "# and test errors for different values of alpha(0-200)\n",
        "Ridge_mean_error = pd.DataFrame(Ridge_me, columns=['Alpha', 'Mean Training Error', 'Mean Test Error'])\n",
        "Ridge_mean_error.head()"
      ],
      "execution_count": null,
      "outputs": [
        {
          "output_type": "execute_result",
          "data": {
            "text/html": [
              "<div>\n",
              "<style scoped>\n",
              "    .dataframe tbody tr th:only-of-type {\n",
              "        vertical-align: middle;\n",
              "    }\n",
              "\n",
              "    .dataframe tbody tr th {\n",
              "        vertical-align: top;\n",
              "    }\n",
              "\n",
              "    .dataframe thead th {\n",
              "        text-align: right;\n",
              "    }\n",
              "</style>\n",
              "<table border=\"1\" class=\"dataframe\">\n",
              "  <thead>\n",
              "    <tr style=\"text-align: right;\">\n",
              "      <th></th>\n",
              "      <th>Alpha</th>\n",
              "      <th>Mean Training Error</th>\n",
              "      <th>Mean Test Error</th>\n",
              "    </tr>\n",
              "  </thead>\n",
              "  <tbody>\n",
              "    <tr>\n",
              "      <th>0</th>\n",
              "      <td>0</td>\n",
              "      <td>3.860241</td>\n",
              "      <td>4.076225</td>\n",
              "    </tr>\n",
              "    <tr>\n",
              "      <th>1</th>\n",
              "      <td>1</td>\n",
              "      <td>3.863582</td>\n",
              "      <td>4.076998</td>\n",
              "    </tr>\n",
              "    <tr>\n",
              "      <th>2</th>\n",
              "      <td>2</td>\n",
              "      <td>3.866878</td>\n",
              "      <td>4.077760</td>\n",
              "    </tr>\n",
              "    <tr>\n",
              "      <th>3</th>\n",
              "      <td>3</td>\n",
              "      <td>3.870259</td>\n",
              "      <td>4.078512</td>\n",
              "    </tr>\n",
              "    <tr>\n",
              "      <th>4</th>\n",
              "      <td>4</td>\n",
              "      <td>3.873891</td>\n",
              "      <td>4.079254</td>\n",
              "    </tr>\n",
              "  </tbody>\n",
              "</table>\n",
              "</div>"
            ],
            "text/plain": [
              "   Alpha  Mean Training Error  Mean Test Error\n",
              "0      0             3.860241         4.076225\n",
              "1      1             3.863582         4.076998\n",
              "2      2             3.866878         4.077760\n",
              "3      3             3.870259         4.078512\n",
              "4      4             3.873891         4.079254"
            ]
          },
          "metadata": {
            "tags": []
          },
          "execution_count": 28
        }
      ]
    },
    {
      "cell_type": "code",
      "metadata": {
        "id": "8j-grCSpnak7",
        "colab_type": "code",
        "colab": {
          "base_uri": "https://localhost:8080/",
          "height": 195
        },
        "outputId": "703f28c4-a79d-4c11-bc7c-a9fed0f92c5a"
      },
      "source": [
        "# creating dataframe for lasso regressor trainiing \n",
        "# and test errors for different values of alpha (1-200)\n",
        "lasso_mean_error = pd.DataFrame(lasso_me, columns=['Alpha', 'Mean Training Error', 'Mean Test Error'])\n",
        "lasso_mean_error.head()"
      ],
      "execution_count": null,
      "outputs": [
        {
          "output_type": "execute_result",
          "data": {
            "text/html": [
              "<div>\n",
              "<style scoped>\n",
              "    .dataframe tbody tr th:only-of-type {\n",
              "        vertical-align: middle;\n",
              "    }\n",
              "\n",
              "    .dataframe tbody tr th {\n",
              "        vertical-align: top;\n",
              "    }\n",
              "\n",
              "    .dataframe thead th {\n",
              "        text-align: right;\n",
              "    }\n",
              "</style>\n",
              "<table border=\"1\" class=\"dataframe\">\n",
              "  <thead>\n",
              "    <tr style=\"text-align: right;\">\n",
              "      <th></th>\n",
              "      <th>Alpha</th>\n",
              "      <th>Mean Training Error</th>\n",
              "      <th>Mean Test Error</th>\n",
              "    </tr>\n",
              "  </thead>\n",
              "  <tbody>\n",
              "    <tr>\n",
              "      <th>0</th>\n",
              "      <td>1</td>\n",
              "      <td>8.431312</td>\n",
              "      <td>8.222585</td>\n",
              "    </tr>\n",
              "    <tr>\n",
              "      <th>1</th>\n",
              "      <td>2</td>\n",
              "      <td>8.138138</td>\n",
              "      <td>7.914265</td>\n",
              "    </tr>\n",
              "    <tr>\n",
              "      <th>2</th>\n",
              "      <td>3</td>\n",
              "      <td>7.999754</td>\n",
              "      <td>7.754720</td>\n",
              "    </tr>\n",
              "    <tr>\n",
              "      <th>3</th>\n",
              "      <td>4</td>\n",
              "      <td>7.976540</td>\n",
              "      <td>7.736128</td>\n",
              "    </tr>\n",
              "    <tr>\n",
              "      <th>4</th>\n",
              "      <td>5</td>\n",
              "      <td>7.964209</td>\n",
              "      <td>7.724731</td>\n",
              "    </tr>\n",
              "  </tbody>\n",
              "</table>\n",
              "</div>"
            ],
            "text/plain": [
              "   Alpha  Mean Training Error  Mean Test Error\n",
              "0      1             8.431312         8.222585\n",
              "1      2             8.138138         7.914265\n",
              "2      3             7.999754         7.754720\n",
              "3      4             7.976540         7.736128\n",
              "4      5             7.964209         7.724731"
            ]
          },
          "metadata": {
            "tags": []
          },
          "execution_count": 29
        }
      ]
    },
    {
      "cell_type": "code",
      "metadata": {
        "id": "l5ypV0QUnvC-",
        "colab_type": "code",
        "colab": {
          "base_uri": "https://localhost:8080/",
          "height": 1000
        },
        "outputId": "8998484e-2869-4f3f-d95e-0be24aca32d0"
      },
      "source": [
        "with pd.option_context('display.max_rows', None, 'display.max_columns', None):\n",
        "    print(lasso_mean_error)"
      ],
      "execution_count": null,
      "outputs": [
        {
          "output_type": "stream",
          "text": [
            "     Alpha  Mean Training Error  Mean Test Error\n",
            "0        1             8.431312         8.222585\n",
            "1        2             8.138138         7.914265\n",
            "2        3             7.999754         7.754720\n",
            "3        4             7.976540         7.736128\n",
            "4        5             7.964209         7.724731\n",
            "5        6             7.955170         7.704799\n",
            "6        7             7.947261         7.686046\n",
            "7        8             7.940750         7.668649\n",
            "8        9             7.935735         7.652646\n",
            "9       10             7.929087         7.645561\n",
            "10      11             7.922219         7.639577\n",
            "11      12             7.915429         7.633661\n",
            "12      13             7.908735         7.627811\n",
            "13      14             7.902133         7.622042\n",
            "14      15             7.895630         7.616423\n",
            "15      16             7.889223         7.610878\n",
            "16      17             7.882895         7.605384\n",
            "17      18             7.876673         7.599973\n",
            "18      19             7.870591         7.594698\n",
            "19      20             7.864614         7.589494\n",
            "20      21             7.858706         7.584338\n",
            "21      22             7.852882         7.579290\n",
            "22      23             7.847125         7.574337\n",
            "23      24             7.841450         7.569486\n",
            "24      25             7.835877         7.564794\n",
            "25      26             7.830371         7.560195\n",
            "26      27             7.824949         7.555703\n",
            "27      28             7.819645         7.551320\n",
            "28      29             7.814427         7.547030\n",
            "29      30             7.809311         7.542816\n",
            "30      31             7.804306         7.538672\n",
            "31      32             7.799415         7.534623\n",
            "32      33             7.794629         7.530690\n",
            "33      34             7.789934         7.526897\n",
            "34      35             7.785344         7.523181\n",
            "35      36             7.780835         7.519569\n",
            "36      37             7.776408         7.516062\n",
            "37      38             7.772049         7.512666\n",
            "38      39             7.767762         7.509371\n",
            "39      40             7.763563         7.506188\n",
            "40      41             7.759541         7.503125\n",
            "41      42             7.755649         7.500201\n",
            "42      43             7.751906         7.497449\n",
            "43      44             7.748287         7.494870\n",
            "44      45             7.744781         7.492445\n",
            "45      46             7.741400         7.490219\n",
            "46      47             7.738141         7.488190\n",
            "47      48             7.735160         7.486106\n",
            "48      49             7.732492         7.483566\n",
            "49      50             7.729824         7.481027\n",
            "50      51             7.727165         7.478489\n",
            "51      52             7.724511         7.475953\n",
            "52      53             7.721858         7.473416\n",
            "53      54             7.719205         7.470880\n",
            "54      55             7.716556         7.468346\n",
            "55      56             7.713906         7.465812\n",
            "56      57             7.711257         7.463279\n",
            "57      58             7.708609         7.460747\n",
            "58      59             7.705961         7.458215\n",
            "59      60             7.703313         7.455683\n",
            "60      61             7.700666         7.453151\n",
            "61      62             7.698018         7.450664\n",
            "62      63             7.695371         7.448199\n",
            "63      64             7.692725         7.445735\n",
            "64      65             7.690078         7.443272\n",
            "65      66             7.687431         7.440809\n",
            "66      67             7.684786         7.438346\n",
            "67      68             7.682142         7.435884\n",
            "68      69             7.679498         7.433422\n",
            "69      70             7.676855         7.430960\n",
            "70      71             7.674212         7.428498\n",
            "71      72             7.671571         7.426038\n",
            "72      73             7.668937         7.423599\n",
            "73      74             7.666309         7.421171\n",
            "74      75             7.663680         7.418743\n",
            "75      76             7.661052         7.416316\n",
            "76      77             7.658426         7.413890\n",
            "77      78             7.655800         7.411465\n",
            "78      79             7.653174         7.409040\n",
            "79      80             7.650550         7.406616\n",
            "80      81             7.647926         7.404191\n",
            "81      82             7.645302         7.401767\n",
            "82      83             7.642679         7.399343\n",
            "83      84             7.640073         7.396919\n",
            "84      85             7.637476         7.394497\n",
            "85      86             7.634881         7.392077\n",
            "86      87             7.632286         7.389657\n",
            "87      88             7.629692         7.387237\n",
            "88      89             7.627097         7.384818\n",
            "89      90             7.624504         7.382398\n",
            "90      91             7.621915         7.379983\n",
            "91      92             7.619327         7.377568\n",
            "92      93             7.616739         7.375154\n",
            "93      94             7.614152         7.372742\n",
            "94      95             7.611573         7.370353\n",
            "95      96             7.608999         7.367974\n",
            "96      97             7.606424         7.365596\n",
            "97      98             7.603850         7.363218\n",
            "98      99             7.601276         7.360840\n",
            "99     100             7.598705         7.358463\n",
            "100    101             7.596135         7.356087\n",
            "101    102             7.593566         7.353712\n",
            "102    103             7.591000         7.351337\n",
            "103    104             7.588434         7.348964\n",
            "104    105             7.585869         7.346590\n",
            "105    106             7.583304         7.344216\n",
            "106    107             7.580740         7.341842\n",
            "107    108             7.578176         7.339468\n",
            "108    109             7.575613         7.337095\n",
            "109    110             7.573051         7.334723\n",
            "110    111             7.570489         7.332352\n",
            "111    112             7.567927         7.329980\n",
            "112    113             7.565366         7.327608\n",
            "113    114             7.562805         7.325236\n",
            "114    115             7.560244         7.322865\n",
            "115    116             7.557685         7.320493\n",
            "116    117             7.555125         7.318144\n",
            "117    118             7.552566         7.315805\n",
            "118    119             7.550012         7.313469\n",
            "119    120             7.547459         7.311134\n",
            "120    121             7.544905         7.308798\n",
            "121    122             7.542352         7.306463\n",
            "122    123             7.539800         7.304128\n",
            "123    124             7.537249         7.301795\n",
            "124    125             7.534699         7.299462\n",
            "125    126             7.532150         7.297129\n",
            "126    127             7.529602         7.294796\n",
            "127    128             7.527063         7.292508\n",
            "128    129             7.524529         7.290242\n",
            "129    130             7.521995         7.287976\n",
            "130    131             7.519462         7.285710\n",
            "131    132             7.516930         7.283446\n",
            "132    133             7.514400         7.281183\n",
            "133    134             7.511870         7.278920\n",
            "134    135             7.509340         7.276657\n",
            "135    136             7.506811         7.274395\n",
            "136    137             7.504284         7.272135\n",
            "137    138             7.501757         7.269876\n",
            "138    139             7.499232         7.267685\n",
            "139    140             7.496708         7.265526\n",
            "140    141             7.494184         7.263367\n",
            "141    142             7.491661         7.261209\n",
            "142    143             7.489138         7.259050\n",
            "143    144             7.486614         7.256892\n",
            "144    145             7.484091         7.254733\n",
            "145    146             7.481569         7.252575\n",
            "146    147             7.479049         7.250417\n",
            "147    148             7.476530         7.248258\n",
            "148    149             7.474014         7.246100\n",
            "149    150             7.471507         7.243943\n",
            "150    151             7.469005         7.241785\n",
            "151    152             7.466504         7.239628\n",
            "152    153             7.464004         7.237472\n",
            "153    154             7.461504         7.235317\n",
            "154    155             7.459005         7.233162\n",
            "155    156             7.456506         7.231007\n",
            "156    157             7.454008         7.228852\n",
            "157    158             7.451511         7.226700\n",
            "158    159             7.449016         7.224548\n",
            "159    160             7.446520         7.222396\n",
            "160    161             7.444042         7.220268\n",
            "161    162             7.441572         7.218152\n",
            "162    163             7.439106         7.216036\n",
            "163    164             7.436639         7.213921\n",
            "164    165             7.434174         7.211806\n",
            "165    166             7.431708         7.209692\n",
            "166    167             7.429243         7.207578\n",
            "167    168             7.426778         7.205465\n",
            "168    169             7.424313         7.203353\n",
            "169    170             7.421848         7.201241\n",
            "170    171             7.419384         7.199130\n",
            "171    172             7.416948         7.197019\n",
            "172    173             7.414523         7.194908\n",
            "173    174             7.412099         7.192796\n",
            "174    175             7.409678         7.190688\n",
            "175    176             7.407259         7.188580\n",
            "176    177             7.404840         7.186473\n",
            "177    178             7.402422         7.184366\n",
            "178    179             7.400006         7.182260\n",
            "179    180             7.397590         7.180154\n",
            "180    181             7.395175         7.178051\n",
            "181    182             7.392761         7.175949\n",
            "182    183             7.390356         7.173846\n",
            "183    184             7.387956         7.171744\n",
            "184    185             7.385558         7.169643\n",
            "185    186             7.383159         7.167542\n",
            "186    187             7.380762         7.165441\n",
            "187    188             7.378364         7.163341\n",
            "188    189             7.375967         7.161242\n",
            "189    190             7.373573         7.159144\n",
            "190    191             7.371179         7.157047\n",
            "191    192             7.368787         7.154951\n",
            "192    193             7.366397         7.152856\n",
            "193    194             7.364016         7.150762\n",
            "194    195             7.361640         7.148669\n",
            "195    196             7.359265         7.146576\n",
            "196    197             7.356893         7.144485\n",
            "197    198             7.354522         7.142394\n",
            "198    199             7.352150         7.140303\n",
            "199    200             7.349780         7.138212\n"
          ],
          "name": "stdout"
        }
      ]
    },
    {
      "cell_type": "code",
      "metadata": {
        "id": "SNE00xXqgr--",
        "colab_type": "code",
        "colab": {
          "base_uri": "https://localhost:8080/",
          "height": 1000
        },
        "outputId": "b98e5b3e-d7b5-4a37-9873-6f4b464914c5"
      },
      "source": [
        "with pd.option_context('display.max_rows', None, 'display.max_columns', None):\n",
        "    print(Ridge_mean_error)"
      ],
      "execution_count": null,
      "outputs": [
        {
          "output_type": "stream",
          "text": [
            "     Alpha  Mean Training Error  Mean Test Error\n",
            "0        0             3.860241         4.076225\n",
            "1        1             3.863582         4.076998\n",
            "2        2             3.866878         4.077760\n",
            "3        3             3.870259         4.078512\n",
            "4        4             3.873891         4.079254\n",
            "5        5             3.877607         4.079986\n",
            "6        6             3.881273         4.080709\n",
            "7        7             3.884890         4.081450\n",
            "8        8             3.888460         4.082477\n",
            "9        9             3.892014         4.083526\n",
            "10      10             3.895580         4.085027\n",
            "11      11             3.899100         4.086724\n",
            "12      12             3.902630         4.088491\n",
            "13      13             3.906148         4.090235\n",
            "14      14             3.909652         4.091958\n",
            "15      15             3.913167         4.094262\n",
            "16      16             3.916791         4.096923\n",
            "17      17             3.920448         4.099550\n",
            "18      18             3.924060         4.102146\n",
            "19      19             3.927627         4.104710\n",
            "20      20             3.931271         4.107243\n",
            "21      21             3.935114         4.109745\n",
            "22      22             3.938909         4.112383\n",
            "23      23             3.942780         4.115899\n",
            "24      24             3.946779         4.119763\n",
            "25      25             3.950810         4.123794\n",
            "26      26             3.954836         4.127778\n",
            "27      27             3.958863         4.131715\n",
            "28      28             3.962844         4.135702\n",
            "29      29             3.966778         4.139789\n",
            "30      30             3.970666         4.143829\n",
            "31      31             3.974510         4.147822\n",
            "32      32             3.978309         4.151770\n",
            "33      33             3.982065         4.155673\n",
            "34      34             3.985779         4.159532\n",
            "35      35             3.989478         4.163348\n",
            "36      36             3.993190         4.167122\n",
            "37      37             3.997008         4.170853\n",
            "38      38             4.000785         4.174543\n",
            "39      39             4.004519         4.178193\n",
            "40      40             4.008253         4.181803\n",
            "41      41             4.011956         4.185374\n",
            "42      42             4.015619         4.188906\n",
            "43      43             4.019243         4.192401\n",
            "44      44             4.022851         4.195858\n",
            "45      45             4.026445         4.199278\n",
            "46      46             4.030021         4.202663\n",
            "47      47             4.033576         4.206011\n",
            "48      48             4.037093         4.209325\n",
            "49      49             4.040574         4.212604\n",
            "50      50             4.044025         4.215849\n",
            "51      51             4.047495         4.219061\n",
            "52      52             4.050929         4.222240\n",
            "53      53             4.054328         4.225387\n",
            "54      54             4.057693         4.228502\n",
            "55      55             4.061033         4.231651\n",
            "56      56             4.064374         4.234813\n",
            "57      57             4.067704         4.237944\n",
            "58      58             4.071052         4.241043\n",
            "59      59             4.074367         4.244112\n",
            "60      60             4.077787         4.247218\n",
            "61      61             4.081174         4.250467\n",
            "62      62             4.084527         4.253685\n",
            "63      63             4.087848         4.256871\n",
            "64      64             4.091137         4.260115\n",
            "65      65             4.094412         4.263646\n",
            "66      66             4.097660         4.267283\n",
            "67      67             4.100877         4.270885\n",
            "68      68             4.104063         4.274454\n",
            "69      69             4.107229         4.277988\n",
            "70      70             4.110392         4.281490\n",
            "71      71             4.113526         4.284958\n",
            "72      72             4.116631         4.288395\n",
            "73      73             4.119795         4.291800\n",
            "74      74             4.122942         4.295173\n",
            "75      75             4.126061         4.298516\n",
            "76      76             4.129212         4.301828\n",
            "77      77             4.132374         4.305110\n",
            "78      78             4.135508         4.308362\n",
            "79      79             4.138613         4.311585\n",
            "80      80             4.141691         4.314779\n",
            "81      81             4.144850         4.317945\n",
            "82      82             4.148018         4.321082\n",
            "83      83             4.151169         4.324192\n",
            "84      84             4.154293         4.327275\n",
            "85      85             4.157391         4.330330\n",
            "86      86             4.160461         4.333359\n",
            "87      87             4.163504         4.336437\n",
            "88      88             4.166557         4.339507\n",
            "89      89             4.169587         4.342551\n",
            "90      90             4.172591         4.345568\n",
            "91      91             4.175569         4.348560\n",
            "92      92             4.178604         4.351526\n",
            "93      93             4.181659         4.354467\n",
            "94      94             4.184738         4.357383\n",
            "95      95             4.187858         4.360275\n",
            "96      96             4.190952         4.363143\n",
            "97      97             4.194022         4.365986\n",
            "98      98             4.197076         4.368806\n",
            "99      99             4.200106         4.371603\n",
            "100    100             4.203111         4.374376\n",
            "101    101             4.206091         4.377149\n",
            "102    102             4.209047         4.379923\n",
            "103    103             4.211979         4.382675\n",
            "104    104             4.214888         4.385404\n",
            "105    105             4.217773         4.388111\n",
            "106    106             4.220645         4.390838\n",
            "107    107             4.223549         4.393588\n",
            "108    108             4.226520         4.396317\n",
            "109    109             4.229593         4.399024\n",
            "110    110             4.232709         4.401710\n",
            "111    111             4.235800         4.404375\n",
            "112    112             4.238868         4.407019\n",
            "113    113             4.241911         4.409642\n",
            "114    114             4.244931         4.412245\n",
            "115    115             4.247928         4.414827\n",
            "116    116             4.250902         4.417461\n",
            "117    117             4.253853         4.420235\n",
            "118    118             4.256781         4.423061\n",
            "119    119             4.259687         4.425865\n",
            "120    120             4.262571         4.428647\n",
            "121    121             4.265434         4.431409\n",
            "122    122             4.268274         4.434150\n",
            "123    123             4.271094         4.436870\n",
            "124    124             4.273892         4.439570\n",
            "125    125             4.276670         4.442250\n",
            "126    126             4.279427         4.444909\n",
            "127    127             4.282164         4.447550\n",
            "128    128             4.284895         4.450170\n",
            "129    129             4.287606         4.452772\n",
            "130    130             4.290298         4.455354\n",
            "131    131             4.292970         4.457920\n",
            "132    132             4.295623         4.460561\n",
            "133    133             4.298256         4.463194\n",
            "134    134             4.300871         4.465809\n",
            "135    135             4.303467         4.468438\n",
            "136    136             4.306044         4.471047\n",
            "137    137             4.308603         4.473638\n",
            "138    138             4.311144         4.476211\n",
            "139    139             4.313667         4.478765\n",
            "140    140             4.316172         4.481301\n",
            "141    141             4.318659         4.483819\n",
            "142    142             4.321129         4.486319\n",
            "143    143             4.323582         4.488802\n",
            "144    144             4.326018         4.491268\n",
            "145    145             4.328438         4.493716\n",
            "146    146             4.330840         4.496147\n",
            "147    147             4.333226         4.498562\n",
            "148    148             4.335596         4.500960\n",
            "149    149             4.337949         4.503341\n",
            "150    150             4.340287         4.505706\n",
            "151    151             4.342608         4.508056\n",
            "152    152             4.344914         4.510389\n",
            "153    153             4.347209         4.512706\n",
            "154    154             4.349573         4.515007\n",
            "155    155             4.351925         4.517293\n",
            "156    156             4.354263         4.519564\n",
            "157    157             4.356590         4.521820\n",
            "158    158             4.358902         4.524060\n",
            "159    159             4.361198         4.526286\n",
            "160    160             4.363479         4.528497\n",
            "161    161             4.365746         4.530693\n",
            "162    162             4.367997         4.532875\n",
            "163    163             4.370234         4.535043\n",
            "164    164             4.372457         4.537196\n",
            "165    165             4.374665         4.539335\n",
            "166    166             4.376859         4.541461\n",
            "167    167             4.379038         4.543573\n",
            "168    168             4.381246         4.545671\n",
            "169    169             4.383503         4.547755\n",
            "170    170             4.385746         4.549826\n",
            "171    171             4.387974         4.551884\n",
            "172    172             4.390189         4.553929\n",
            "173    173             4.392389         4.555961\n",
            "174    174             4.394575         4.557980\n",
            "175    175             4.396748         4.559986\n",
            "176    176             4.398908         4.561980\n",
            "177    177             4.401054         4.563961\n",
            "178    178             4.403186         4.565930\n",
            "179    179             4.405306         4.567886\n",
            "180    180             4.407412         4.569831\n",
            "181    181             4.409506         4.571763\n",
            "182    182             4.411586         4.573683\n",
            "183    183             4.413654         4.575592\n",
            "184    184             4.415710         4.577489\n",
            "185    185             4.417753         4.579374\n",
            "186    186             4.419801         4.581248\n",
            "187    187             4.421850         4.583110\n",
            "188    188             4.423895         4.584961\n",
            "189    189             4.425942         4.586801\n",
            "190    190             4.427981         4.588629\n",
            "191    191             4.430030         4.590447\n",
            "192    192             4.432066         4.592254\n",
            "193    193             4.434091         4.594050\n",
            "194    194             4.436103         4.595835\n",
            "195    195             4.438104         4.597610\n",
            "196    196             4.440093         4.599374\n",
            "197    197             4.442070         4.601141\n",
            "198    198             4.444036         4.602955\n",
            "199    199             4.445990         4.604758\n",
            "200    200             4.447933         4.606550\n"
          ],
          "name": "stdout"
        }
      ]
    },
    {
      "cell_type": "code",
      "metadata": {
        "id": "vHEVy_zVgr0t",
        "colab_type": "code",
        "colab": {}
      },
      "source": [
        ""
      ],
      "execution_count": null,
      "outputs": []
    }
  ]
}